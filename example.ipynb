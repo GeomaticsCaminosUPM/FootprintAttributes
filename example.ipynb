{
 "cells": [
  {
   "cell_type": "code",
   "execution_count": 1,
   "metadata": {},
   "outputs": [],
   "source": [
    "import footprint_attributes\n",
    "import geopandas as gpd"
   ]
  },
  {
   "cell_type": "code",
   "execution_count": 2,
   "metadata": {},
   "outputs": [
    {
     "data": {
      "text/plain": [
       "<function footprint_attributes.forces.calc_forces(geoms: geopandas.geodataframe.GeoDataFrame, buffer: float = 0, height_column: str = None)>"
      ]
     },
     "execution_count": 2,
     "metadata": {},
     "output_type": "execute_result"
    }
   ],
   "source": [
    "footprints_gdf = gpd.read_file(\"C:\\path\\to\\footprints.shp\")\n",
    "footprints_gdf"
   ]
  },
  {
   "cell_type": "code",
   "execution_count": null,
   "metadata": {},
   "outputs": [],
   "source": [
    "footprints_gdf = footprint_attributes.calc_forces(footprints_gdf,height_column=None,buffer=0.2) #20 cm of buffer\n",
    "footprints_gdf"
   ]
  },
  {
   "cell_type": "code",
   "execution_count": null,
   "metadata": {},
   "outputs": [],
   "source": [
    "footprints_gdf = footprint_attributes.relative_position(footprints_gdf,angle_significance=0.6,force_significance=0.05)\n",
    "footprints_gdf"
   ]
  },
  {
   "cell_type": "code",
   "execution_count": null,
   "metadata": {},
   "outputs": [],
   "source": [
    "footprints_gdf = footprint_attributes.calc_shape_irregularity(footprints_gdf)\n",
    "footprints_gdf"
   ]
  },
  {
   "cell_type": "code",
   "execution_count": null,
   "metadata": {},
   "outputs": [],
   "source": [
    "footprints_gdf = footprint_attributes.calc_polsby_popper(footprints_gdf)\n",
    "footprints_gdf"
   ]
  },
  {
   "cell_type": "code",
   "execution_count": null,
   "metadata": {},
   "outputs": [],
   "source": [
    "# Look at one column\n",
    "footprints_gdf.explore(\n",
    "    column='polsby_popper',       # Column to base the color on\n",
    "    cmap='YlOrRd',        # Color map (Yellow to Red)\n",
    "    legend=True ,           # Add a legend\n",
    "    vmin = 0,\n",
    "    vmax = 1               # Set max and min values\n",
    ")"
   ]
  }
 ],
 "metadata": {
  "kernelspec": {
   "display_name": "footprint_attributes",
   "language": "python",
   "name": "python3"
  },
  "language_info": {
   "codemirror_mode": {
    "name": "ipython",
    "version": 3
   },
   "file_extension": ".py",
   "mimetype": "text/x-python",
   "name": "python",
   "nbconvert_exporter": "python",
   "pygments_lexer": "ipython3",
   "version": "3.11.9"
  }
 },
 "nbformat": 4,
 "nbformat_minor": 2
}
